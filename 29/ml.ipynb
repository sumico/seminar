{
  "cells": [
    {
      "cell_type": "markdown",
      "metadata": {
        "id": "HU2blK8KeZZW"
      },
      "source": [
        "Machine learning model evaluation on the adult dataset\n",
        "\n",
        "https://github.com/sdv-dev/CTGAN/blob/main/README.md"
      ],
      "id": "HU2blK8KeZZW"
    },
    {
      "cell_type": "code",
      "source": [
        "from google.colab import drive\n",
        "drive.mount('/content/drive')\n",
        "%cd /content/drive/MyDrive/CTGAN/"
      ],
      "metadata": {
        "colab": {
          "base_uri": "https://localhost:8080/"
        },
        "id": "_nsSPqHjed1z",
        "outputId": "4caa410f-b5ab-428a-a690-cf68818ea26c"
      },
      "id": "_nsSPqHjed1z",
      "execution_count": 1,
      "outputs": [
        {
          "output_type": "stream",
          "name": "stdout",
          "text": [
            "Mounted at /content/drive\n",
            "/content/drive/MyDrive/CTGAN\n"
          ]
        }
      ]
    },
    {
      "cell_type": "code",
      "execution_count": 2,
      "metadata": {
        "colab": {
          "base_uri": "https://localhost:8080/"
        },
        "id": "YreHbibfeZZY",
        "outputId": "c0510c3a-7afb-496b-e308-129781b8880c"
      },
      "outputs": [
        {
          "output_type": "stream",
          "name": "stderr",
          "text": [
            "/usr/local/lib/python3.11/dist-packages/sklearn/linear_model/_logistic.py:465: ConvergenceWarning: lbfgs failed to converge (status=1):\n",
            "STOP: TOTAL NO. OF ITERATIONS REACHED LIMIT.\n",
            "\n",
            "Increase the number of iterations (max_iter) or scale the data as shown in:\n",
            "    https://scikit-learn.org/stable/modules/preprocessing.html\n",
            "Please also refer to the documentation for alternative solver options:\n",
            "    https://scikit-learn.org/stable/modules/linear_model.html#logistic-regression\n",
            "  n_iter_i = _check_optimize_result(\n"
          ]
        },
        {
          "output_type": "stream",
          "name": "stdout",
          "text": [
            "                 Model  Accuracy  Precision  Recall  F1 Score\n",
            "0  Logistic Regression    0.8034     0.6959  0.3993    0.5075\n",
            "1        Decision Tree    0.8091     0.6230  0.6255    0.6243\n",
            "2        Random Forest    0.8553     0.7487  0.6464    0.6938\n",
            "3    Gradient Boosting    0.8626     0.8024  0.6078    0.6917\n",
            "\n",
            "Best Model: Gradient Boosting\n"
          ]
        }
      ],
      "source": [
        "import pandas as pd\n",
        "import numpy as np\n",
        "from sklearn.model_selection import train_test_split\n",
        "from sklearn.preprocessing import LabelEncoder\n",
        "from sklearn.linear_model import LogisticRegression\n",
        "from sklearn.tree import DecisionTreeClassifier\n",
        "from sklearn.ensemble import RandomForestClassifier, GradientBoostingClassifier\n",
        "from sklearn.metrics import accuracy_score, precision_score, recall_score, f1_score\n",
        "\n",
        "# Load the dataset\n",
        "df = pd.read_csv('/content/drive/MyDrive/CTGAN/adult.csv')\n",
        "\n",
        "# Drop rows with missing values\n",
        "df.replace(' ?', np.nan, inplace=True)\n",
        "df.dropna(inplace=True)\n",
        "\n",
        "# Drop unnamed index column if present\n",
        "if df.columns[0] == '':\n",
        "    df.drop(columns=df.columns[0], inplace=True)\n",
        "\n",
        "# Encode categorical variables\n",
        "label_encoders = {}\n",
        "for column in df.select_dtypes(include='object').columns:\n",
        "    le = LabelEncoder()\n",
        "    df[column] = le.fit_transform(df[column])\n",
        "    label_encoders[column] = le\n",
        "\n",
        "# Split data into features and target\n",
        "X = df.drop('income', axis=1)\n",
        "y = df['income']\n",
        "\n",
        "# Split train-test\n",
        "X_train, X_test, y_train, y_test = train_test_split(X, y, test_size=0.2, random_state=42)\n",
        "\n",
        "# Define models\n",
        "models = {\n",
        "    'Logistic Regression': LogisticRegression(max_iter=1000),\n",
        "    'Decision Tree': DecisionTreeClassifier(),\n",
        "    'Random Forest': RandomForestClassifier(),\n",
        "    'Gradient Boosting': GradientBoostingClassifier()\n",
        "}\n",
        "\n",
        "# Train and evaluate models\n",
        "results = []\n",
        "for name, model in models.items():\n",
        "    model.fit(X_train, y_train)\n",
        "    y_pred = model.predict(X_test)\n",
        "    results.append({\n",
        "        'Model': name,\n",
        "        'Accuracy': round(accuracy_score(y_test, y_pred), 4),\n",
        "        'Precision': round(precision_score(y_test, y_pred), 4),\n",
        "        'Recall': round(recall_score(y_test, y_pred), 4),\n",
        "        'F1 Score': round(f1_score(y_test, y_pred), 4)\n",
        "    })\n",
        "\n",
        "# Display results\n",
        "import pandas as pd\n",
        "results_df = pd.DataFrame(results)\n",
        "print(results_df)\n",
        "\n",
        "# Identify best model\n",
        "best_model = max(results, key=lambda x: x['Accuracy'])\n",
        "print('\\nBest Model:', best_model['Model'])"
      ],
      "id": "YreHbibfeZZY"
    },
    {
      "cell_type": "markdown",
      "source": [
        "Gradient Boosting が最も高精度（86.3%）"
      ],
      "metadata": {
        "id": "6wEDFHpQf4-X"
      },
      "id": "6wEDFHpQf4-X"
    }
  ],
  "metadata": {
    "kernelspec": {
      "display_name": "Python 3",
      "language": "python",
      "name": "python3"
    },
    "language_info": {
      "name": "python",
      "version": "3.8"
    },
    "colab": {
      "provenance": []
    }
  },
  "nbformat": 4,
  "nbformat_minor": 5
}